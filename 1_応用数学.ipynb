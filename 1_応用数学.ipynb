{
 "cells": [
  {
   "cell_type": "markdown",
   "id": "1d039e53",
   "metadata": {},
   "source": [
    "# 応用数学"
   ]
  },
  {
   "cell_type": "markdown",
   "id": "b07dc953",
   "metadata": {},
   "source": [
    "## 第1章：線形代数"
   ]
  },
  {
   "cell_type": "markdown",
   "id": "7fd8a871",
   "metadata": {},
   "source": [
    "## 第2章：確率・統計"
   ]
  },
  {
   "cell_type": "markdown",
   "id": "dbc37b49",
   "metadata": {},
   "source": [
    "## 第3章：情報理論"
   ]
  },
  {
   "cell_type": "code",
   "execution_count": null,
   "id": "5a0c0494",
   "metadata": {},
   "outputs": [],
   "source": []
  }
 ],
 "metadata": {
  "kernelspec": {
   "display_name": "Python 3",
   "language": "python",
   "name": "python3"
  },
  "language_info": {
   "codemirror_mode": {
    "name": "ipython",
    "version": 3
   },
   "file_extension": ".py",
   "mimetype": "text/x-python",
   "name": "python",
   "nbconvert_exporter": "python",
   "pygments_lexer": "ipython3",
   "version": "3.9.5"
  }
 },
 "nbformat": 4,
 "nbformat_minor": 5
}
